{
 "cells": [
  {
   "cell_type": "code",
   "execution_count": 1,
   "id": "2a36582d-1261-4805-b5ef-e0e69605816d",
   "metadata": {},
   "outputs": [],
   "source": [
    "# Data Cleaning\n",
    "# This program goes reads in a CSV file, and perfoms a number of data quality checks. Data values that fail the checks are then cleansed."
   ]
  },
  {
   "cell_type": "code",
   "execution_count": 2,
   "id": "c9dae7f4-22a1-46fe-847b-985eeced4b08",
   "metadata": {},
   "outputs": [],
   "source": [
    "# Initial imports\n",
    "import pandas as pd\n",
    "from pathlib import Path"
   ]
  },
  {
   "cell_type": "code",
   "execution_count": 3,
   "id": "736ab682-406b-4628-b20b-9b33f03687e5",
   "metadata": {},
   "outputs": [
    {
     "data": {
      "text/html": [
       "<div>\n",
       "<style scoped>\n",
       "    .dataframe tbody tr th:only-of-type {\n",
       "        vertical-align: middle;\n",
       "    }\n",
       "\n",
       "    .dataframe tbody tr th {\n",
       "        vertical-align: top;\n",
       "    }\n",
       "\n",
       "    .dataframe thead th {\n",
       "        text-align: right;\n",
       "    }\n",
       "</style>\n",
       "<table border=\"1\" class=\"dataframe\">\n",
       "  <thead>\n",
       "    <tr style=\"text-align: right;\">\n",
       "      <th></th>\n",
       "      <th>customer_no</th>\n",
       "      <th>order_total</th>\n",
       "      <th>order_date</th>\n",
       "    </tr>\n",
       "    <tr>\n",
       "      <th>order_no</th>\n",
       "      <th></th>\n",
       "      <th></th>\n",
       "      <th></th>\n",
       "    </tr>\n",
       "  </thead>\n",
       "  <tbody>\n",
       "    <tr>\n",
       "      <th>4465241327</th>\n",
       "      <td>AK45765</td>\n",
       "      <td>$1103.36</td>\n",
       "      <td>04-25-2019</td>\n",
       "    </tr>\n",
       "    <tr>\n",
       "      <th>4465241327</th>\n",
       "      <td>AK45765</td>\n",
       "      <td>$1103.36</td>\n",
       "      <td>04-25-2019</td>\n",
       "    </tr>\n",
       "    <tr>\n",
       "      <th>2356363</th>\n",
       "      <td>2124</td>\n",
       "      <td>258936.12</td>\n",
       "      <td>04-29-2019</td>\n",
       "    </tr>\n",
       "    <tr>\n",
       "      <th>413853121</th>\n",
       "      <td>CM458565</td>\n",
       "      <td>NaN</td>\n",
       "      <td>4/24/2019</td>\n",
       "    </tr>\n",
       "    <tr>\n",
       "      <th>45235825</th>\n",
       "      <td>TV4663</td>\n",
       "      <td>65.42</td>\n",
       "      <td>04-29-2019</td>\n",
       "    </tr>\n",
       "  </tbody>\n",
       "</table>\n",
       "</div>"
      ],
      "text/plain": [
       "           customer_no order_total  order_date\n",
       "order_no                                      \n",
       "4465241327     AK45765    $1103.36  04-25-2019\n",
       "4465241327     AK45765    $1103.36  04-25-2019\n",
       "2356363           2124   258936.12  04-29-2019\n",
       "413853121     CM458565         NaN   4/24/2019\n",
       "45235825        TV4663       65.42  04-29-2019"
      ]
     },
     "execution_count": 3,
     "metadata": {},
     "output_type": "execute_result"
    }
   ],
   "source": [
    "# Read in CSV and take a sample\n",
    "# Take sample of data\n",
    "\n",
    "csv_path = Path(\"order_data.csv\")\n",
    "csv_data = pd.read_csv(csv_path, index_col=\"order_no\")\n",
    "csv_data.sample(5)"
   ]
  },
  {
   "cell_type": "code",
   "execution_count": 4,
   "id": "7616ed2e-7e72-43d0-9262-44cda0c58171",
   "metadata": {},
   "outputs": [
    {
     "data": {
      "text/plain": [
       "customer_no    object\n",
       "order_total    object\n",
       "order_date     object\n",
       "dtype: object"
      ]
     },
     "execution_count": 4,
     "metadata": {},
     "output_type": "execute_result"
    }
   ],
   "source": [
    "# Identify DataFrame Data Types\n",
    "# Retrieve DataFrame data types\n",
    "\n",
    "csv_data.dtypes"
   ]
  },
  {
   "cell_type": "code",
   "execution_count": 5,
   "id": "cbfdf450-356a-40c1-aabc-dc8beccf4eb0",
   "metadata": {},
   "outputs": [
    {
     "data": {
      "text/plain": [
       "customer_no    7\n",
       "order_total    7\n",
       "order_date     8\n",
       "dtype: int64"
      ]
     },
     "execution_count": 5,
     "metadata": {},
     "output_type": "execute_result"
    }
   ],
   "source": [
    "#Assess data quality by identifying the number of rows\n",
    "# Identify Series count\n",
    "\n",
    "csv_data.count()"
   ]
  },
  {
   "cell_type": "code",
   "execution_count": 6,
   "id": "71c205f0-2f30-4818-981d-7e6f13f91c1f",
   "metadata": {},
   "outputs": [
    {
     "data": {
      "text/plain": [
       "CM458565    2\n",
       "AK45765     2\n",
       "CJ458565    1\n",
       "TV4663      1\n",
       "2124        1\n",
       "Name: customer_no, dtype: int64"
      ]
     },
     "execution_count": 6,
     "metadata": {},
     "output_type": "execute_result"
    }
   ],
   "source": [
    "# Assess data quality by identifying the number of times a value occurs\n",
    "# Identify frequency values\n",
    "\n",
    "csv_data[\"customer_no\"].value_counts()"
   ]
  },
  {
   "cell_type": "code",
   "execution_count": 7,
   "id": "4351a1b5-1891-4144-8842-200fc7d4ffdb",
   "metadata": {},
   "outputs": [
    {
     "data": {
      "text/html": [
       "<div>\n",
       "<style scoped>\n",
       "    .dataframe tbody tr th:only-of-type {\n",
       "        vertical-align: middle;\n",
       "    }\n",
       "\n",
       "    .dataframe tbody tr th {\n",
       "        vertical-align: top;\n",
       "    }\n",
       "\n",
       "    .dataframe thead th {\n",
       "        text-align: right;\n",
       "    }\n",
       "</style>\n",
       "<table border=\"1\" class=\"dataframe\">\n",
       "  <thead>\n",
       "    <tr style=\"text-align: right;\">\n",
       "      <th></th>\n",
       "      <th>customer_no</th>\n",
       "      <th>order_total</th>\n",
       "      <th>order_date</th>\n",
       "    </tr>\n",
       "    <tr>\n",
       "      <th>order_no</th>\n",
       "      <th></th>\n",
       "      <th></th>\n",
       "      <th></th>\n",
       "    </tr>\n",
       "  </thead>\n",
       "  <tbody>\n",
       "    <tr>\n",
       "      <th>452517125</th>\n",
       "      <td>False</td>\n",
       "      <td>False</td>\n",
       "      <td>False</td>\n",
       "    </tr>\n",
       "    <tr>\n",
       "      <th>45251825</th>\n",
       "      <td>False</td>\n",
       "      <td>False</td>\n",
       "      <td>False</td>\n",
       "    </tr>\n",
       "    <tr>\n",
       "      <th>4465241327</th>\n",
       "      <td>False</td>\n",
       "      <td>False</td>\n",
       "      <td>False</td>\n",
       "    </tr>\n",
       "    <tr>\n",
       "      <th>4465241327</th>\n",
       "      <td>False</td>\n",
       "      <td>False</td>\n",
       "      <td>False</td>\n",
       "    </tr>\n",
       "    <tr>\n",
       "      <th>413853121</th>\n",
       "      <td>False</td>\n",
       "      <td>True</td>\n",
       "      <td>False</td>\n",
       "    </tr>\n",
       "    <tr>\n",
       "      <th>45235825</th>\n",
       "      <td>False</td>\n",
       "      <td>False</td>\n",
       "      <td>False</td>\n",
       "    </tr>\n",
       "    <tr>\n",
       "      <th>2356363</th>\n",
       "      <td>False</td>\n",
       "      <td>False</td>\n",
       "      <td>False</td>\n",
       "    </tr>\n",
       "    <tr>\n",
       "      <th>452519232</th>\n",
       "      <td>True</td>\n",
       "      <td>False</td>\n",
       "      <td>False</td>\n",
       "    </tr>\n",
       "  </tbody>\n",
       "</table>\n",
       "</div>"
      ],
      "text/plain": [
       "            customer_no  order_total  order_date\n",
       "order_no                                        \n",
       "452517125         False        False       False\n",
       "45251825          False        False       False\n",
       "4465241327        False        False       False\n",
       "4465241327        False        False       False\n",
       "413853121         False         True       False\n",
       "45235825          False        False       False\n",
       "2356363           False        False       False\n",
       "452519232          True        False       False"
      ]
     },
     "execution_count": 7,
     "metadata": {},
     "output_type": "execute_result"
    }
   ],
   "source": [
    "# Assess data quality by checking for nulls\n",
    "# Check for null values\n",
    "\n",
    "csv_data.isnull()"
   ]
  },
  {
   "cell_type": "code",
   "execution_count": 8,
   "id": "058aeeda-eb62-42cb-9f7e-2949becc7486",
   "metadata": {},
   "outputs": [
    {
     "data": {
      "text/plain": [
       "customer_no    12.5\n",
       "order_total    12.5\n",
       "order_date      0.0\n",
       "dtype: float64"
      ]
     },
     "execution_count": 8,
     "metadata": {},
     "output_type": "execute_result"
    }
   ],
   "source": [
    "# Assess data quality by determining the percentage of nulls\n",
    "# Determine percentage of nulls\n",
    "\n",
    "csv_data.isnull().mean() * 100"
   ]
  },
  {
   "cell_type": "code",
   "execution_count": 9,
   "id": "faef438f-078d-4389-964e-cbeacc5b583a",
   "metadata": {},
   "outputs": [
    {
     "data": {
      "text/plain": [
       "customer_no    1\n",
       "order_total    1\n",
       "order_date     0\n",
       "dtype: int64"
      ]
     },
     "execution_count": 9,
     "metadata": {},
     "output_type": "execute_result"
    }
   ],
   "source": [
    "# Assess data quality by determining the number of nulls\n",
    "# Determine number of nulls\n",
    "\n",
    "csv_data.isnull().sum()"
   ]
  },
  {
   "cell_type": "code",
   "execution_count": 10,
   "id": "0ce560fe-55e3-481a-acb0-5d5cfd8dda49",
   "metadata": {},
   "outputs": [
    {
     "data": {
      "text/html": [
       "<div>\n",
       "<style scoped>\n",
       "    .dataframe tbody tr th:only-of-type {\n",
       "        vertical-align: middle;\n",
       "    }\n",
       "\n",
       "    .dataframe tbody tr th {\n",
       "        vertical-align: top;\n",
       "    }\n",
       "\n",
       "    .dataframe thead th {\n",
       "        text-align: right;\n",
       "    }\n",
       "</style>\n",
       "<table border=\"1\" class=\"dataframe\">\n",
       "  <thead>\n",
       "    <tr style=\"text-align: right;\">\n",
       "      <th></th>\n",
       "      <th>customer_no</th>\n",
       "      <th>order_total</th>\n",
       "      <th>order_date</th>\n",
       "    </tr>\n",
       "    <tr>\n",
       "      <th>order_no</th>\n",
       "      <th></th>\n",
       "      <th></th>\n",
       "      <th></th>\n",
       "    </tr>\n",
       "  </thead>\n",
       "  <tbody>\n",
       "    <tr>\n",
       "      <th>452517125</th>\n",
       "      <td>CM458565</td>\n",
       "      <td>$141.25</td>\n",
       "      <td>01-10-2019</td>\n",
       "    </tr>\n",
       "    <tr>\n",
       "      <th>45251825</th>\n",
       "      <td>CJ458565</td>\n",
       "      <td>14.00</td>\n",
       "      <td>04/25/2019</td>\n",
       "    </tr>\n",
       "    <tr>\n",
       "      <th>4465241327</th>\n",
       "      <td>AK45765</td>\n",
       "      <td>$1103.36</td>\n",
       "      <td>04-25-2019</td>\n",
       "    </tr>\n",
       "    <tr>\n",
       "      <th>4465241327</th>\n",
       "      <td>AK45765</td>\n",
       "      <td>$1103.36</td>\n",
       "      <td>04-25-2019</td>\n",
       "    </tr>\n",
       "    <tr>\n",
       "      <th>413853121</th>\n",
       "      <td>CM458565</td>\n",
       "      <td>NaN</td>\n",
       "      <td>4/24/2019</td>\n",
       "    </tr>\n",
       "    <tr>\n",
       "      <th>45235825</th>\n",
       "      <td>TV4663</td>\n",
       "      <td>65.42</td>\n",
       "      <td>04-29-2019</td>\n",
       "    </tr>\n",
       "    <tr>\n",
       "      <th>2356363</th>\n",
       "      <td>2124</td>\n",
       "      <td>258936.12</td>\n",
       "      <td>04-29-2019</td>\n",
       "    </tr>\n",
       "    <tr>\n",
       "      <th>452519232</th>\n",
       "      <td>Unknown</td>\n",
       "      <td>$141.25</td>\n",
       "      <td>01-10-2019</td>\n",
       "    </tr>\n",
       "  </tbody>\n",
       "</table>\n",
       "</div>"
      ],
      "text/plain": [
       "           customer_no order_total  order_date\n",
       "order_no                                      \n",
       "452517125     CM458565     $141.25  01-10-2019\n",
       "45251825      CJ458565       14.00  04/25/2019\n",
       "4465241327     AK45765    $1103.36  04-25-2019\n",
       "4465241327     AK45765    $1103.36  04-25-2019\n",
       "413853121     CM458565         NaN   4/24/2019\n",
       "45235825        TV4663       65.42  04-29-2019\n",
       "2356363           2124   258936.12  04-29-2019\n",
       "452519232      Unknown     $141.25  01-10-2019"
      ]
     },
     "execution_count": 10,
     "metadata": {},
     "output_type": "execute_result"
    }
   ],
   "source": [
    "# Cleanse data by filling nulls with default value (i.e. \"Unknown\", 0, or mean() is common)\n",
    "# Cleanse nulls from DataFrame by filling na\n",
    "\n",
    "csv_data[\"customer_no\"] = csv_data[\"customer_no\"].fillna(\"Unknown\")\n",
    "csv_data"
   ]
  },
  {
   "cell_type": "code",
   "execution_count": 11,
   "id": "d5f1318b-59ec-4067-ae3a-5927bb11747e",
   "metadata": {},
   "outputs": [
    {
     "data": {
      "text/html": [
       "<div>\n",
       "<style scoped>\n",
       "    .dataframe tbody tr th:only-of-type {\n",
       "        vertical-align: middle;\n",
       "    }\n",
       "\n",
       "    .dataframe tbody tr th {\n",
       "        vertical-align: top;\n",
       "    }\n",
       "\n",
       "    .dataframe thead th {\n",
       "        text-align: right;\n",
       "    }\n",
       "</style>\n",
       "<table border=\"1\" class=\"dataframe\">\n",
       "  <thead>\n",
       "    <tr style=\"text-align: right;\">\n",
       "      <th></th>\n",
       "      <th>customer_no</th>\n",
       "      <th>order_total</th>\n",
       "      <th>order_date</th>\n",
       "    </tr>\n",
       "    <tr>\n",
       "      <th>order_no</th>\n",
       "      <th></th>\n",
       "      <th></th>\n",
       "      <th></th>\n",
       "    </tr>\n",
       "  </thead>\n",
       "  <tbody>\n",
       "    <tr>\n",
       "      <th>452517125</th>\n",
       "      <td>CM458565</td>\n",
       "      <td>$141.25</td>\n",
       "      <td>01-10-2019</td>\n",
       "    </tr>\n",
       "    <tr>\n",
       "      <th>45251825</th>\n",
       "      <td>CJ458565</td>\n",
       "      <td>14.00</td>\n",
       "      <td>04/25/2019</td>\n",
       "    </tr>\n",
       "    <tr>\n",
       "      <th>4465241327</th>\n",
       "      <td>AK45765</td>\n",
       "      <td>$1103.36</td>\n",
       "      <td>04-25-2019</td>\n",
       "    </tr>\n",
       "    <tr>\n",
       "      <th>4465241327</th>\n",
       "      <td>AK45765</td>\n",
       "      <td>$1103.36</td>\n",
       "      <td>04-25-2019</td>\n",
       "    </tr>\n",
       "    <tr>\n",
       "      <th>45235825</th>\n",
       "      <td>TV4663</td>\n",
       "      <td>65.42</td>\n",
       "      <td>04-29-2019</td>\n",
       "    </tr>\n",
       "    <tr>\n",
       "      <th>2356363</th>\n",
       "      <td>2124</td>\n",
       "      <td>258936.12</td>\n",
       "      <td>04-29-2019</td>\n",
       "    </tr>\n",
       "    <tr>\n",
       "      <th>452519232</th>\n",
       "      <td>Unknown</td>\n",
       "      <td>$141.25</td>\n",
       "      <td>01-10-2019</td>\n",
       "    </tr>\n",
       "  </tbody>\n",
       "</table>\n",
       "</div>"
      ],
      "text/plain": [
       "           customer_no order_total  order_date\n",
       "order_no                                      \n",
       "452517125     CM458565     $141.25  01-10-2019\n",
       "45251825      CJ458565       14.00  04/25/2019\n",
       "4465241327     AK45765    $1103.36  04-25-2019\n",
       "4465241327     AK45765    $1103.36  04-25-2019\n",
       "45235825        TV4663       65.42  04-29-2019\n",
       "2356363           2124   258936.12  04-29-2019\n",
       "452519232      Unknown     $141.25  01-10-2019"
      ]
     },
     "execution_count": 11,
     "metadata": {},
     "output_type": "execute_result"
    }
   ],
   "source": [
    "# Cleanse data by dropping nulls\n",
    "# Cleaning nulls from DataFrame by dropping\n",
    "\n",
    "csv_data = csv_data.dropna().copy()\n",
    "csv_data"
   ]
  },
  {
   "cell_type": "code",
   "execution_count": 12,
   "id": "ffd06aac-03c2-4fe9-ba32-2e09c618124f",
   "metadata": {},
   "outputs": [
    {
     "data": {
      "text/plain": [
       "customer_no    0\n",
       "order_total    0\n",
       "order_date     0\n",
       "dtype: int64"
      ]
     },
     "execution_count": 12,
     "metadata": {},
     "output_type": "execute_result"
    }
   ],
   "source": [
    "# Checking number of nulls again\n",
    "\n",
    "csv_data.isnull().sum()"
   ]
  },
  {
   "cell_type": "code",
   "execution_count": 13,
   "id": "96e4a2ce-48c7-4808-88a0-69fe10803448",
   "metadata": {},
   "outputs": [
    {
     "data": {
      "text/plain": [
       "order_no\n",
       "452517125     False\n",
       "45251825      False\n",
       "4465241327    False\n",
       "4465241327     True\n",
       "45235825      False\n",
       "2356363       False\n",
       "452519232     False\n",
       "dtype: bool"
      ]
     },
     "execution_count": 13,
     "metadata": {},
     "output_type": "execute_result"
    }
   ],
   "source": [
    "# Assess data quality by checking for duplicate rows\n",
    "# Check duplicates\n",
    "\n",
    "csv_data.duplicated()"
   ]
  },
  {
   "cell_type": "code",
   "execution_count": 14,
   "id": "84d57ee9-8d5d-473c-9c22-60f8bc891f2f",
   "metadata": {},
   "outputs": [
    {
     "data": {
      "text/plain": [
       "order_no\n",
       "452517125     False\n",
       "45251825      False\n",
       "4465241327    False\n",
       "4465241327     True\n",
       "45235825      False\n",
       "2356363       False\n",
       "452519232     False\n",
       "Name: customer_no, dtype: bool"
      ]
     },
     "execution_count": 14,
     "metadata": {},
     "output_type": "execute_result"
    }
   ],
   "source": [
    "# Assess data quality by checking for duplicate customer_no values\n",
    "# Check duplicates for specific field\n",
    "\n",
    "csv_data[\"customer_no\"].duplicated()"
   ]
  },
  {
   "cell_type": "code",
   "execution_count": 15,
   "id": "257957ff-35a7-4a9c-8739-abf7363cc46e",
   "metadata": {},
   "outputs": [
    {
     "data": {
      "text/plain": [
       "order_no\n",
       "452517125     False\n",
       "45251825      False\n",
       "4465241327    False\n",
       "45235825      False\n",
       "2356363       False\n",
       "452519232     False\n",
       "Name: customer_no, dtype: bool"
      ]
     },
     "execution_count": 15,
     "metadata": {},
     "output_type": "execute_result"
    }
   ],
   "source": [
    "# Cleanse data by dropping duplicates\n",
    "# Clean duplicates\n",
    "\n",
    "csv_data = csv_data.drop_duplicates().copy()\n",
    "\n",
    "csv_data[\"customer_no\"].duplicated()"
   ]
  },
  {
   "cell_type": "code",
   "execution_count": 16,
   "id": "e6a0fc10-793d-4624-874e-b533f83768fb",
   "metadata": {},
   "outputs": [
    {
     "data": {
      "text/html": [
       "<div>\n",
       "<style scoped>\n",
       "    .dataframe tbody tr th:only-of-type {\n",
       "        vertical-align: middle;\n",
       "    }\n",
       "\n",
       "    .dataframe tbody tr th {\n",
       "        vertical-align: top;\n",
       "    }\n",
       "\n",
       "    .dataframe thead th {\n",
       "        text-align: right;\n",
       "    }\n",
       "</style>\n",
       "<table border=\"1\" class=\"dataframe\">\n",
       "  <thead>\n",
       "    <tr style=\"text-align: right;\">\n",
       "      <th></th>\n",
       "      <th>customer_no</th>\n",
       "      <th>order_total</th>\n",
       "      <th>order_date</th>\n",
       "    </tr>\n",
       "    <tr>\n",
       "      <th>order_no</th>\n",
       "      <th></th>\n",
       "      <th></th>\n",
       "      <th></th>\n",
       "    </tr>\n",
       "  </thead>\n",
       "  <tbody>\n",
       "    <tr>\n",
       "      <th>452517125</th>\n",
       "      <td>CM458565</td>\n",
       "      <td>$141.25</td>\n",
       "      <td>01-10-2019</td>\n",
       "    </tr>\n",
       "    <tr>\n",
       "      <th>45251825</th>\n",
       "      <td>CJ458565</td>\n",
       "      <td>14.00</td>\n",
       "      <td>04/25/2019</td>\n",
       "    </tr>\n",
       "    <tr>\n",
       "      <th>4465241327</th>\n",
       "      <td>AK45765</td>\n",
       "      <td>$1103.36</td>\n",
       "      <td>04-25-2019</td>\n",
       "    </tr>\n",
       "    <tr>\n",
       "      <th>45235825</th>\n",
       "      <td>TV4663</td>\n",
       "      <td>65.42</td>\n",
       "      <td>04-29-2019</td>\n",
       "    </tr>\n",
       "    <tr>\n",
       "      <th>2356363</th>\n",
       "      <td>2124</td>\n",
       "      <td>258936.12</td>\n",
       "      <td>04-29-2019</td>\n",
       "    </tr>\n",
       "  </tbody>\n",
       "</table>\n",
       "</div>"
      ],
      "text/plain": [
       "           customer_no order_total  order_date\n",
       "order_no                                      \n",
       "452517125     CM458565     $141.25  01-10-2019\n",
       "45251825      CJ458565       14.00  04/25/2019\n",
       "4465241327     AK45765    $1103.36  04-25-2019\n",
       "45235825        TV4663       65.42  04-29-2019\n",
       "2356363           2124   258936.12  04-29-2019"
      ]
     },
     "execution_count": 16,
     "metadata": {},
     "output_type": "execute_result"
    }
   ],
   "source": [
    "# Assess data quality by using head function to sample data and identify currency symbols\n",
    "# Identify if numeric field with $ symbol\n",
    "\n",
    "csv_data.head()"
   ]
  },
  {
   "cell_type": "code",
   "execution_count": 17,
   "id": "c78cf5c1-47c9-43b5-80fc-3741cab066a3",
   "metadata": {},
   "outputs": [
    {
     "name": "stderr",
     "output_type": "stream",
     "text": [
      "C:\\Users\\rwhit\\anaconda3\\envs\\dev\\lib\\site-packages\\ipykernel_launcher.py:4: FutureWarning: The default value of regex will change from True to False in a future version. In addition, single character regular expressions will *not* be treated as literal strings when regex=True.\n",
      "  after removing the cwd from sys.path.\n"
     ]
    },
    {
     "data": {
      "text/plain": [
       "order_no\n",
       "452517125        141.25\n",
       "45251825          14.00\n",
       "4465241327      1103.36\n",
       "45235825          65.42\n",
       "2356363       258936.12\n",
       "452519232        141.25\n",
       "Name: order_total, dtype: object"
      ]
     },
     "execution_count": 17,
     "metadata": {},
     "output_type": "execute_result"
    }
   ],
   "source": [
    "# Cleanse data by replacing currency symbols\n",
    "# Clean identified numeric fields with $ symbol\n",
    "\n",
    "csv_data[\"order_total\"] = csv_data[\"order_total\"].str.replace(\"$\", \"\")\n",
    "csv_data[\"order_total\"]"
   ]
  },
  {
   "cell_type": "code",
   "execution_count": 18,
   "id": "a6ac5af8-be8e-4f7a-af36-c2a9353fe7d2",
   "metadata": {},
   "outputs": [
    {
     "data": {
      "text/plain": [
       "customer_no    object\n",
       "order_total    object\n",
       "order_date     object\n",
       "dtype: object"
      ]
     },
     "execution_count": 18,
     "metadata": {},
     "output_type": "execute_result"
    }
   ],
   "source": [
    "# Retrieve data types to confirm what needs to be converted\n",
    "\n",
    "csv_data.dtypes"
   ]
  },
  {
   "cell_type": "code",
   "execution_count": 19,
   "id": "6661b2ed-4a66-48a8-8e25-b6a841a4f12a",
   "metadata": {},
   "outputs": [],
   "source": [
    "# Convert `order_total` from `object` to `float`\n",
    "\n",
    "csv_data[\"order_total\"] = csv_data[\"order_total\"].astype(\"float\")"
   ]
  },
  {
   "cell_type": "code",
   "execution_count": 20,
   "id": "4fcc446f-2856-4979-adab-6bb10b0278ac",
   "metadata": {},
   "outputs": [
    {
     "data": {
      "text/plain": [
       "customer_no     object\n",
       "order_total    float64\n",
       "order_date      object\n",
       "dtype: object"
      ]
     },
     "execution_count": 20,
     "metadata": {},
     "output_type": "execute_result"
    }
   ],
   "source": [
    "# Confirm conversion worked as expected\n",
    "\n",
    "csv_data.dtypes"
   ]
  }
 ],
 "metadata": {
  "kernelspec": {
   "display_name": "Python 3 (ipykernel)",
   "language": "python",
   "name": "python3"
  },
  "language_info": {
   "codemirror_mode": {
    "name": "ipython",
    "version": 3
   },
   "file_extension": ".py",
   "mimetype": "text/x-python",
   "name": "python",
   "nbconvert_exporter": "python",
   "pygments_lexer": "ipython3",
   "version": "3.7.13"
  }
 },
 "nbformat": 4,
 "nbformat_minor": 5
}
